{
 "cells": [
  {
   "cell_type": "code",
   "execution_count": 1,
   "metadata": {
    "ExecuteTime": {
     "end_time": "2020-09-17T12:46:13.823637Z",
     "start_time": "2020-09-17T12:46:12.771306Z"
    }
   },
   "outputs": [],
   "source": [
    "%matplotlib inline\n",
    "import numpy as np\n",
    "import matplotlib.pyplot as plt\n",
    "%load_ext autoreload\n",
    "%autoreload 2"
   ]
  },
  {
   "cell_type": "markdown",
   "metadata": {},
   "source": [
    "Data Generation\n",
    "==="
   ]
  },
  {
   "cell_type": "code",
   "execution_count": 2,
   "metadata": {
    "ExecuteTime": {
     "end_time": "2020-09-17T12:46:16.725186Z",
     "start_time": "2020-09-17T12:46:16.691812Z"
    }
   },
   "outputs": [],
   "source": [
    "num_samples, num_features = 10, 5"
   ]
  },
  {
   "cell_type": "code",
   "execution_count": 46,
   "metadata": {
    "ExecuteTime": {
     "end_time": "2020-09-17T13:02:00.795721Z",
     "start_time": "2020-09-17T13:02:00.762541Z"
    }
   },
   "outputs": [],
   "source": [
    "np.random.seed(10)\n",
    "data = np.random.rand(num_samples, num_features)\n",
    "test_data = np.array([[1.01,-1.0,1.0],[1.0,1.0,2.0]])"
   ]
  },
  {
   "cell_type": "markdown",
   "metadata": {},
   "source": [
    "Solution\n",
    "==="
   ]
  },
  {
   "cell_type": "code",
   "execution_count": 33,
   "metadata": {
    "ExecuteTime": {
     "end_time": "2020-09-17T12:55:33.183920Z",
     "start_time": "2020-09-17T12:55:33.150010Z"
    },
    "scrolled": false
   },
   "outputs": [
    {
     "name": "stdout",
     "output_type": "stream",
     "text": [
      "[[ 1. -1.  1.]\n",
      " [ 1.  1.  2.]]\n"
     ]
    }
   ],
   "source": [
    "print(test_data)"
   ]
  },
  {
   "cell_type": "code",
   "execution_count": 47,
   "metadata": {
    "ExecuteTime": {
     "end_time": "2020-09-17T13:02:03.263379Z",
     "start_time": "2020-09-17T13:02:03.229432Z"
    }
   },
   "outputs": [],
   "source": [
    "def standardize(x):\n",
    "    ''' param x: matrix where each row is a sample and all columns are features \n",
    "    '''\n",
    "    # calc mean & std\n",
    "    mean = np.mean(x, axis=0)\n",
    "    std = np.std(x, axis=0)\n",
    "\n",
    "    # make sure none of the features has zero variance, to avoid divison by zero.\n",
    "    # these should be eliminated anyways since zero variance features are of no use to the model\n",
    "    assert not (np.any(std==0)) \n",
    "    \n",
    "    #normalize\n",
    "    x = x - mean\n",
    "    x = x/ std\n",
    "    \n",
    "    return x\n",
    "\n"
   ]
  },
  {
   "cell_type": "code",
   "execution_count": 51,
   "metadata": {
    "ExecuteTime": {
     "end_time": "2020-09-17T13:02:23.570642Z",
     "start_time": "2020-09-17T13:02:23.537351Z"
    }
   },
   "outputs": [],
   "source": [
    "std_data = standardize(data)"
   ]
  },
  {
   "cell_type": "code",
   "execution_count": 52,
   "metadata": {
    "ExecuteTime": {
     "end_time": "2020-09-17T13:02:25.215509Z",
     "start_time": "2020-09-17T13:02:25.179561Z"
    }
   },
   "outputs": [
    {
     "name": "stdout",
     "output_type": "stream",
     "text": [
      "[[ 1.0775774  -1.34411605  0.31525355  0.80665878  0.24128662]\n",
      " [-1.81711634 -0.77630186  0.74088404 -1.25592235 -1.42276759]\n",
      " [ 0.62228127  1.64254169 -1.797091   -0.03521894  1.51565143]\n",
      " [ 0.23651339  0.90075228 -0.83122987  1.40786459  1.11788073]\n",
      " [-0.13414844 -0.95529104 -0.55795449  0.54097769  0.01136005]\n",
      " [-0.70898541  0.56774371 -0.08900028  0.45652209  0.65726018]\n",
      " [ 1.2571441   0.25993298  1.23775021 -0.72176808 -1.4141686 ]\n",
      " [-1.41508984 -1.04555188  0.96949701 -1.69076861  0.75969247]\n",
      " [-0.10744434  1.21308427 -1.14296098  1.19109415 -0.35450368]\n",
      " [ 0.98926822 -0.46279408  1.15485183 -0.69943932 -1.11169162]]\n",
      "[-1.66533454e-16  4.99600361e-17 -2.22044605e-17  1.11022302e-17\n",
      "  3.33066907e-16]\n",
      "[1. 1. 1. 1. 1.]\n"
     ]
    }
   ],
   "source": [
    "print(std_data)\n",
    "print(np.mean(std_data, axis=0))\n",
    "print( np.std(std_data, axis=0))"
   ]
  },
  {
   "cell_type": "code",
   "execution_count": null,
   "metadata": {},
   "outputs": [],
   "source": []
  }
 ],
 "metadata": {
  "kernelspec": {
   "display_name": "Python 3",
   "language": "python",
   "name": "python3"
  },
  "language_info": {
   "codemirror_mode": {
    "name": "ipython",
    "version": 3
   },
   "file_extension": ".py",
   "mimetype": "text/x-python",
   "name": "python",
   "nbconvert_exporter": "python",
   "pygments_lexer": "ipython3",
   "version": "3.7.5"
  },
  "toc": {
   "base_numbering": 1,
   "nav_menu": {},
   "number_sections": true,
   "sideBar": true,
   "skip_h1_title": false,
   "title_cell": "Table of Contents",
   "title_sidebar": "Contents",
   "toc_cell": false,
   "toc_position": {},
   "toc_section_display": true,
   "toc_window_display": false
  }
 },
 "nbformat": 4,
 "nbformat_minor": 1
}

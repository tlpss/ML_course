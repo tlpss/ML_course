{
 "cells": [
  {
   "cell_type": "code",
   "execution_count": 2,
   "metadata": {
    "ExecuteTime": {
     "end_time": "2020-10-17T07:41:01.509036Z",
     "start_time": "2020-10-17T07:41:00.555663Z"
    }
   },
   "outputs": [],
   "source": [
    "# Useful starting lines\n",
    "%matplotlib inline\n",
    "import numpy as np\n",
    "import matplotlib.pyplot as plt\n",
    "%load_ext autoreload\n",
    "%autoreload 2"
   ]
  },
  {
   "cell_type": "markdown",
   "metadata": {},
   "source": [
    "# Logistic Regression\n",
    "## Classification Using Linear Regression\n",
    "Load your data."
   ]
  },
  {
   "cell_type": "code",
   "execution_count": 3,
   "metadata": {
    "ExecuteTime": {
     "end_time": "2020-10-17T07:41:01.648379Z",
     "start_time": "2020-10-17T07:41:01.510694Z"
    }
   },
   "outputs": [
    {
     "name": "stdout",
     "output_type": "stream",
     "text": [
      "[1]\n",
      "[ 1.53195873 60.17053988]\n"
     ]
    }
   ],
   "source": [
    "from helpers import sample_data, load_data, standardize\n",
    "\n",
    "# load data.\n",
    "height, weight, gender = load_data()\n",
    "\n",
    "# build sampled x and y.\n",
    "seed = 1\n",
    "y = np.expand_dims(gender, axis=1)\n",
    "X = np.c_[height.reshape(-1), weight.reshape(-1)]\n",
    "y, X = sample_data(y, X, seed, size_samples=200)\n",
    "x, mean_x, std_x = standardize(X)\n",
    "print(y[0])\n",
    "print(X[0])"
   ]
  },
  {
   "cell_type": "markdown",
   "metadata": {},
   "source": [
    "Use `least_squares` to compute w, and visualize the results."
   ]
  },
  {
   "cell_type": "code",
   "execution_count": 4,
   "metadata": {
    "ExecuteTime": {
     "end_time": "2020-10-17T07:41:02.233399Z",
     "start_time": "2020-10-17T07:41:01.649322Z"
    }
   },
   "outputs": [
    {
     "ename": "NameError",
     "evalue": "name 'calculate_loss' is not defined",
     "output_type": "error",
     "traceback": [
      "\u001b[1;31m---------------------------------------------------------------------------\u001b[0m",
      "\u001b[1;31mNameError\u001b[0m                                 Traceback (most recent call last)",
      "\u001b[1;32m<ipython-input-4-b7324c4c3364>\u001b[0m in \u001b[0;36m<module>\u001b[1;34m\u001b[0m\n\u001b[0;32m     12\u001b[0m     \u001b[0mvisualization\u001b[0m\u001b[1;33m(\u001b[0m\u001b[0my\u001b[0m\u001b[1;33m,\u001b[0m \u001b[0mx\u001b[0m\u001b[1;33m,\u001b[0m \u001b[0mmean_x\u001b[0m\u001b[1;33m,\u001b[0m \u001b[0mstd_x\u001b[0m\u001b[1;33m,\u001b[0m \u001b[0mw\u001b[0m\u001b[1;33m,\u001b[0m \u001b[1;34m\"classification_by_least_square\"\u001b[0m\u001b[1;33m)\u001b[0m\u001b[1;33m\u001b[0m\u001b[1;33m\u001b[0m\u001b[0m\n\u001b[0;32m     13\u001b[0m     \u001b[0mprint\u001b[0m\u001b[1;33m(\u001b[0m\u001b[0mcalculate_loss\u001b[0m\u001b[1;33m(\u001b[0m\u001b[0my\u001b[0m\u001b[1;33m,\u001b[0m\u001b[0mtx\u001b[0m\u001b[1;33m,\u001b[0m\u001b[0mw\u001b[0m\u001b[1;33m)\u001b[0m\u001b[1;33m)\u001b[0m\u001b[1;33m\u001b[0m\u001b[1;33m\u001b[0m\u001b[0m\n\u001b[1;32m---> 14\u001b[1;33m \u001b[0mleast_square_classification_demo\u001b[0m\u001b[1;33m(\u001b[0m\u001b[0my\u001b[0m\u001b[1;33m,\u001b[0m \u001b[0mx\u001b[0m\u001b[1;33m)\u001b[0m\u001b[1;33m\u001b[0m\u001b[1;33m\u001b[0m\u001b[0m\n\u001b[0m",
      "\u001b[1;32m<ipython-input-4-b7324c4c3364>\u001b[0m in \u001b[0;36mleast_square_classification_demo\u001b[1;34m(y, x)\u001b[0m\n\u001b[0;32m     11\u001b[0m \u001b[1;33m\u001b[0m\u001b[0m\n\u001b[0;32m     12\u001b[0m     \u001b[0mvisualization\u001b[0m\u001b[1;33m(\u001b[0m\u001b[0my\u001b[0m\u001b[1;33m,\u001b[0m \u001b[0mx\u001b[0m\u001b[1;33m,\u001b[0m \u001b[0mmean_x\u001b[0m\u001b[1;33m,\u001b[0m \u001b[0mstd_x\u001b[0m\u001b[1;33m,\u001b[0m \u001b[0mw\u001b[0m\u001b[1;33m,\u001b[0m \u001b[1;34m\"classification_by_least_square\"\u001b[0m\u001b[1;33m)\u001b[0m\u001b[1;33m\u001b[0m\u001b[1;33m\u001b[0m\u001b[0m\n\u001b[1;32m---> 13\u001b[1;33m     \u001b[0mprint\u001b[0m\u001b[1;33m(\u001b[0m\u001b[0mcalculate_loss\u001b[0m\u001b[1;33m(\u001b[0m\u001b[0my\u001b[0m\u001b[1;33m,\u001b[0m\u001b[0mtx\u001b[0m\u001b[1;33m,\u001b[0m\u001b[0mw\u001b[0m\u001b[1;33m)\u001b[0m\u001b[1;33m)\u001b[0m\u001b[1;33m\u001b[0m\u001b[1;33m\u001b[0m\u001b[0m\n\u001b[0m\u001b[0;32m     14\u001b[0m \u001b[0mleast_square_classification_demo\u001b[0m\u001b[1;33m(\u001b[0m\u001b[0my\u001b[0m\u001b[1;33m,\u001b[0m \u001b[0mx\u001b[0m\u001b[1;33m)\u001b[0m\u001b[1;33m\u001b[0m\u001b[1;33m\u001b[0m\u001b[0m\n",
      "\u001b[1;31mNameError\u001b[0m: name 'calculate_loss' is not defined"
     ]
    },
    {
     "data": {
      "image/png": "[encoded data removed]",
      "text/plain": [
       "<Figure size 432x288 with 2 Axes>"
      ]
     },
     "metadata": {
      "needs_background": "light"
     },
     "output_type": "display_data"
    }
   ],
   "source": [
    "from least_squares import least_squares\n",
    "from plots import visualization\n",
    "\n",
    "def least_square_classification_demo(y, x):\n",
    "    # ***************************************************\n",
    "    # INSERT YOUR CODE HERE\n",
    "    # classify the data by linear regression: TODO\n",
    "    # ***************************************************\n",
    "    tx = np.c_[np.ones((y.shape[0], 1)), x]\n",
    "    w = least_squares(y,tx)\n",
    "\n",
    "    visualization(y, x, mean_x, std_x, w, \"classification_by_least_square\")\n",
    "    print(calculate_loss(y,tx,w))\n",
    "least_square_classification_demo(y, x)"
   ]
  },
  {
   "cell_type": "markdown",
   "metadata": {},
   "source": [
    "## Logistic Regression"
   ]
  },
  {
   "cell_type": "markdown",
   "metadata": {},
   "source": [
    "Compute negative log likelihood loss."
   ]
  },
  {
   "cell_type": "code",
   "execution_count": null,
   "metadata": {
    "ExecuteTime": {
     "end_time": "2020-10-17T07:41:02.235394Z",
     "start_time": "2020-10-17T07:41:02.018Z"
    }
   },
   "outputs": [],
   "source": [
    "def sigmoid(t):\n",
    "    \"\"\"apply the sigmoid function on t.\"\"\"\n",
    "    return 1 / (1 + np.exp(-t))"
   ]
  },
  {
   "cell_type": "code",
   "execution_count": 5,
   "metadata": {
    "ExecuteTime": {
     "end_time": "2020-10-17T07:41:02.440547Z",
     "start_time": "2020-10-17T07:41:02.401465Z"
    },
    "jupyter": {
     "outputs_hidden": true
    }
   },
   "outputs": [],
   "source": [
    "def calculate_loss(y, tx, w):\n",
    "    \"\"\"compute the loss: negative log likelihood.\"\"\"\n",
    "    return np.sum(np.log(1+np.exp(tx.dot(w)))) - np.dot(y.T,tx.dot(w))"
   ]
  },
  {
   "cell_type": "code",
   "execution_count": 6,
   "metadata": {
    "ExecuteTime": {
     "end_time": "2020-10-17T07:41:02.895801Z",
     "start_time": "2020-10-17T07:41:02.856905Z"
    },
    "jupyter": {
     "outputs_hidden": true
    }
   },
   "outputs": [],
   "source": [
    "def calculate_gradient(y, tx, w):\n",
    "    \"\"\"compute the gradient of loss.\"\"\"\n",
    "    return tx.T.dot(sigmoid(tx.dot(w))-y)"
   ]
  },
  {
   "cell_type": "markdown",
   "metadata": {},
   "source": [
    "### Using Gradient Descent\n",
    "Implement your function to calculate the gradient for logistic regression."
   ]
  },
  {
   "cell_type": "code",
   "execution_count": 7,
   "metadata": {
    "ExecuteTime": {
     "end_time": "2020-10-17T07:41:03.957502Z",
     "start_time": "2020-10-17T07:41:03.922055Z"
    },
    "jupyter": {
     "outputs_hidden": true
    }
   },
   "outputs": [],
   "source": [
    "def learning_by_gradient_descent(y, tx, w, gamma):\n",
    "    \"\"\"\n",
    "    Do one step of gradient descent using logistic regression.\n",
    "    Return the loss and the updated w.\n",
    "    \"\"\"\n",
    "    loss = calculate_loss(y,tx,w)\n",
    "    gradient = calculate_gradient(y,tx,w)\n",
    "    w = w - gamma*gradient\n",
    "    return loss, w"
   ]
  },
  {
   "cell_type": "code",
   "execution_count": 35,
   "metadata": {
    "ExecuteTime": {
     "end_time": "2020-10-17T07:57:07.855977Z",
     "start_time": "2020-10-17T07:57:07.809914Z"
    }
   },
   "outputs": [],
   "source": [
    "#MILOS VERSION TEST \n",
    "def sigmoid(x):\n",
    "    \"\"\"\n",
    "    Function calculates the value of sigmoid function on the data structure x\n",
    "    \n",
    "    :param x: usulally this is X^T * w\n",
    "    :type x: scalar or numpy 1D array or numpy 2D array\n",
    "    \n",
    "    :return: value of sigmoid function for that particular x\n",
    "    :rtype:  float64\n",
    "    \n",
    "    \"\"\"\n",
    "    return 1/(1 + np.exp(-x))\n",
    "\n",
    "def gradient_of_logistic_regression(tx,y,w,lambda_ = 0):\n",
    "    \"\"\"\n",
    "    Function calculates the value of the gradient of the loss function for every\n",
    "    i-th point of tx ( i in {0,...,(N-1)} )\n",
    "    \n",
    "    Function returns a vector, take a look at lecture 05b in Machine Learning:\n",
    "        file name : lecture5b_logistic_regression.pdf --->    https://github.com/epfml/ML_course/blob/master/lectures/05/lecture5b_logistic_regression.pdf\n",
    "        page : 10/17\n",
    "    \n",
    "    :param tx: extended (contains bias column) feature matrix, where each row is a datapoint and each          column a feature\n",
    "    :type tx: numpy 2D array\n",
    "    \n",
    "    :param y: binary labels of our data\n",
    "    :type y: numpy 1D array\n",
    "    \n",
    "    :param w: weight parameters for linear regression for every data point in tx\n",
    "    :type w: numpy 1D array\n",
    "    \n",
    "    \n",
    "    :return: the gradient vector for every data point i-th in tx ( i in {0,...,(N-1)} )\n",
    "    in the logistic regression\n",
    "    :rtype:  numpy 1D array\n",
    "    \n",
    "    \"\"\"\n",
    "    lin_reg = np.matmul(tx,w) # linear regression for every data point in tx\n",
    "    hypothesis_vector = sigmoid(lin_reg) # just sigmoid applied to every entry of linear regression\n",
    "    # calculate gradient vector with regularization (of course if lambda_ == 0 then it is without regularization)\n",
    "    gradient_vector = np.matmul(np.transpose(tx), hypothesis_vector-y) + 2 * lambda_ * w\n",
    "    return gradient_vector\n",
    "\n",
    "def loss_of_logistic_regression(tx,y,w,lambda_ = 0):\n",
    "    \"\"\"\n",
    "    Function calculates the value of the loss function for linear regression at the point tx\n",
    "    \n",
    "    Function returns a number float64, take a look at lecture 05b in Machine Learning:\n",
    "        file name : lecture5b_logistic_regression.pdf --->    https://github.com/epfml/ML_course/blob/master/lectures/05/lecture5b_logistic_regression.pdf\n",
    "        page : 07/17\n",
    "    \n",
    "    :param y: labels\n",
    "    :type y: numpy 1D array\n",
    "    \n",
    "    :param tx: extended (contains bias column) feature matrix\n",
    "    :type tx: numpy 2D array\n",
    "    \n",
    "    :param w: weights from linear regression\n",
    "    :type w: numpy 1D array\n",
    "    \n",
    "    :return: the loss function calculated for every data point in tx and then summed up\n",
    "    :rtype:  float64\n",
    "    \n",
    "    \"\"\"\n",
    "    # linear regression\n",
    "    lin_reg = np.matmul(tx,w) \n",
    "    # log part of loss function\n",
    "    log_lin_reg = np.logaddexp(0,lin_reg)  #  = log(1+ exp(lin_reg)) but avoids numerical instability issues\n",
    "    # linear part of loss function\n",
    "    # where y_i is zero that doesnt have any effect on the loss\n",
    "    # where y_i is one that we subtract linear regression part\n",
    "    y_lin_reg = y * lin_reg \n",
    "    loss = np.sum(log_lin_reg - y_lin_reg)\n",
    "    return loss\n",
    "\n",
    "def logistic_regression(y, tx, initial_w, max_iters, gamma):\n",
    "    \"\"\"\n",
    "    #Logistic regression using gradient descent\n",
    "    \n",
    "    :param y: labels\n",
    "    :type y: numpy 1D array\n",
    "    \n",
    "    :param tx: extended (contains bias column) feature matrix, where each row is a datapoint and each          column a feature\n",
    "    :type tx: numpy 2D array\n",
    "    \n",
    "    :param initial_w: initial value of weights\n",
    "    :type initial_w: numpy 1D array\n",
    "    \n",
    "    :param max_iters: the number of maximal iterations\n",
    "    :type max_iters: int\n",
    "    \n",
    "    :param gamma: learning rate\n",
    "    :type gamma: float64\n",
    "    \n",
    "    :return: ws (), losses (the value of the loss function at the end of learning)\n",
    "    :rtype:  numpy array,  float64\n",
    "    \n",
    "    \"\"\"\n",
    "    loss = 0.0\n",
    "    w = initial_w\n",
    "    for n_iter in range(max_iters):\n",
    "        # compute the gradient at the given point\n",
    "        gradient = gradient_of_logistic_regression(tx,y,w)\n",
    "        w = w - gamma * gradient\n",
    "    # calculate loss function\n",
    "    loss = loss_of_logistic_regression(tx,y,w)\n",
    "    return w, loss\n",
    "\n",
    "def reg_logistic_regression(y, tx, lambda_, initial_w, max_iters, gamma):\n",
    "    \"\"\"\n",
    "    #Regularized logistic regression using gradient descent\n",
    "    \n",
    "    :param y: labels\n",
    "    :type y: numpy 1D array\n",
    "    \n",
    "    :param lambda_: trade-off parameter (how big part of the loss/cost function to give to regularization function)\n",
    "    :type lambda_: float64\n",
    "    \n",
    "    \n",
    "    :param tx: extended (contains bias column) feature matrix, where each row is a datapoint and each          column a feature\n",
    "    :type tx: numpy 2D array\n",
    "    \n",
    "    :param initial_w: initial value of weights\n",
    "    :type initial_w: numpy 1D array\n",
    "    \n",
    "    :param max_iters: the number of maximal iterations\n",
    "    :type max_iters: int\n",
    "    \n",
    "    :param gamma: learning rate\n",
    "    :type gamma: float64\n",
    "    \n",
    "    :return: ws (), losses (the value of the loss function at the end of learning)\n",
    "    :rtype:  numpy array,  float64\n",
    "    \n",
    "    \"\"\"\n",
    "\n",
    "    # Define parameters to store weights and the value of the loss(cost) funcion\n",
    "    loss = 0.0\n",
    "    w = initial_w\n",
    "    for n_iter in range(max_iters):\n",
    "        # compute the gradient at the given point\n",
    "        gradient = gradient_of_logistic_regression(tx,y,w,lambda_)\n",
    "        # update weights accordint to the BGD\n",
    "        w = w - gamma * gradient\n",
    "    # calculate loss function\n",
    "    loss = loss_of_logistic_regression(tx,y,w,lambda_)\n",
    "    return w, loss\n",
    "\n",
    "def reg_batch_logistic_regression(y, tx, lambda_, initial_w, max_iters, gamma, batch_size):\n",
    "    \"\"\"\n",
    "    #Regularized logistic regression using gradient descent\n",
    "    \n",
    "    :param y: labels\n",
    "    :type y: numpy 1D array\n",
    "    \n",
    "    :param lambda_: trade-off parameter (how big part of the loss/cost function to give to regularization function)\n",
    "    :type lambda_: float64\n",
    "    \n",
    "    \n",
    "    :param tx: extended (contains bias column) feature matrix, where each row is a datapoint and each          column a feature\n",
    "    :type tx: numpy 2D array\n",
    "    \n",
    "    :param initial_w: initial value of weights\n",
    "    :type initial_w: numpy 1D array\n",
    "    \n",
    "    :param max_iters: the number of maximal iterations\n",
    "    :type max_iters: int\n",
    "    \n",
    "    :param gamma: learning rate\n",
    "    :type gamma: float64\n",
    "    \n",
    "    :return: ws (), losses (the value of the loss function at the end of learning)\n",
    "    :rtype:  numpy array,  float64\n",
    "    \n",
    "    \"\"\"\n",
    "    n = len(y)\n",
    "    # Define parameters to store weights and the value of the loss(cost) funcion\n",
    "    loss = 0.0\n",
    "    w = initial_w\n",
    "    for n_iter in range(max_iters):\n",
    "        batch_indices = np.random.randint(n,size=batch_size)\n",
    "        batch_y = y[batch_indices]\n",
    "        batch_tx = tx[batch_indices]\n",
    "        # compute the gradient at the given point\n",
    "        gradient = gradient_of_logistic_regression(batch_tx,batch_y,w,lambda_)\n",
    "        # update weights accordint to the BGD\n",
    "        w = w - gamma * gradient\n",
    "    # calculate loss function\n",
    "    loss = loss_of_logistic_regression(tx,y,w,lambda_)\n",
    "    return w, loss"
   ]
  },
  {
   "cell_type": "markdown",
   "metadata": {},
   "source": [
    "Demo!"
   ]
  },
  {
   "cell_type": "code",
   "execution_count": 36,
   "metadata": {
    "ExecuteTime": {
     "end_time": "2020-10-17T07:57:09.133459Z",
     "start_time": "2020-10-17T07:57:08.648703Z"
    }
   },
   "outputs": [
    {
     "name": "stdout",
     "output_type": "stream",
     "text": [
      "(200, 3)\n",
      "(3, 1)\n",
      "Current iteration=0, loss=[[138.62943611]]\n",
      "Current iteration=100, loss=[[43.46403231]]\n",
      "Current iteration=200, loss=[[41.54589281]]\n",
      "Current iteration=300, loss=[[41.09863897]]\n",
      "Current iteration=400, loss=[[40.96487064]]\n",
      "Current iteration=500, loss=[[40.92008946]]\n",
      "Current iteration=600, loss=[[40.90418744]]\n",
      "Current iteration=700, loss=[[40.89834995]]\n",
      "Current iteration=800, loss=[[40.89616497]]\n",
      "Current iteration=900, loss=[[40.89533753]]\n",
      "Current iteration=1000, loss=[[40.89502196]]\n",
      "Current iteration=1100, loss=[[40.89490109]]\n",
      "Current iteration=1200, loss=[[40.89485466]]\n",
      "Current iteration=1300, loss=[[40.8948368]]\n",
      "Current iteration=1400, loss=[[40.89482992]]\n",
      "Current iteration=1500, loss=[[40.89482727]]\n",
      "loss=[[40.89482664]]\n",
      "w=[[ 0.23833206]\n",
      " [ 2.46258033]\n",
      " [-6.99339341]]\n"
     ]
    },
    {
     "data": {
      "image/png": "[encoded data removed]",
      "text/plain": [
       "<Figure size 432x288 with 2 Axes>"
      ]
     },
     "metadata": {
      "needs_background": "light"
     },
     "output_type": "display_data"
    }
   ],
   "source": [
    "from helpers import de_standardize\n",
    "\n",
    "def logistic_regression_gradient_descent_demo(y, x):\n",
    "    # init parameters\n",
    "    max_iter = 10000\n",
    "    threshold = 1e-8\n",
    "    gamma = 0.01\n",
    "    losses = []\n",
    "\n",
    "    # build tx\n",
    "    tx = np.c_[np.ones((y.shape[0], 1)), x]\n",
    "    w = np.zeros((tx.shape[1], 1))\n",
    "    print(tx.shape)\n",
    "    print(w.shape)\n",
    "\n",
    "    # start the logistic regression\n",
    "    for iter in range(max_iter):\n",
    "        # get loss and update w.\n",
    "        loss, w = learning_by_gradient_descent(y, tx, w, gamma)\n",
    "        # log info\n",
    "        if iter % 100 == 0:\n",
    "            print(\"Current iteration={i}, loss={l}\".format(i=iter, l=loss))\n",
    "        # converge criterion\n",
    "        losses.append(loss)\n",
    "        if len(losses) > 1 and np.abs(losses[-1] - losses[-2]) < threshold:\n",
    "            break\n",
    "    # visualization\n",
    "    visualization(y, x, mean_x, std_x, w, \"classification_by_logistic_regression_gradient_descent\", True)\n",
    "    print(\"loss={l}\".format(l=calculate_loss(y, tx, w)))\n",
    "    print(f\"w={w}\")\n",
    "\n",
    "logistic_regression_gradient_descent_demo(y, x)"
   ]
  },
  {
   "cell_type": "code",
   "execution_count": 37,
   "metadata": {
    "ExecuteTime": {
     "end_time": "2020-10-17T07:57:09.994652Z",
     "start_time": "2020-10-17T07:57:09.928826Z"
    }
   },
   "outputs": [
    {
     "name": "stdout",
     "output_type": "stream",
     "text": [
      "[[ 0.23831217]\n",
      " [ 2.46228721]\n",
      " [-6.99291579]]\n",
      "40.894827272895505\n"
     ]
    }
   ],
   "source": [
    "#test milos\n",
    "# build tx\n",
    "tx = np.c_[np.ones((y.shape[0], 1)), x]\n",
    "w = np.zeros((tx.shape[1], 1))\n",
    "w, loss = logistic_regression(y, tx,w, 1500, 0.01)\n",
    "print(w)\n",
    "print(loss)"
   ]
  },
  {
   "cell_type": "markdown",
   "metadata": {},
   "source": [
    "Calculate your Hessian below"
   ]
  },
  {
   "cell_type": "code",
   "execution_count": 60,
   "metadata": {
    "ExecuteTime": {
     "end_time": "2020-10-15T12:52:17.281406Z",
     "start_time": "2020-10-15T12:52:17.190497Z"
    },
    "jupyter": {
     "outputs_hidden": true
    }
   },
   "outputs": [],
   "source": [
    "def calculate_hessian(y, tx, w):\n",
    "    \"\"\"return the Hessian of the loss function.\"\"\"\n",
    "    S_vec = np.multiply(1-sigmoid(tx.dot(w)),sigmoid(tx.dot(w))).flatten()\n",
    "    S = np.diag(S_vec)                               \n",
    "    return tx.T.dot(S).dot(tx)\n"
   ]
  },
  {
   "cell_type": "markdown",
   "metadata": {},
   "source": [
    "Write a function below to return loss, gradient, and Hessian."
   ]
  },
  {
   "cell_type": "code",
   "execution_count": 61,
   "metadata": {
    "ExecuteTime": {
     "end_time": "2020-10-15T12:52:18.565445Z",
     "start_time": "2020-10-15T12:52:18.459446Z"
    },
    "jupyter": {
     "outputs_hidden": true
    }
   },
   "outputs": [],
   "source": [
    "def logistic_regression(y, tx, w):\n",
    "    \"\"\"return the loss, gradient, and Hessian.\"\"\"\n",
    "    loss = calculate_loss(y,tx,w)\n",
    "    gradient = calculate_gradient(y,tx,w)\n",
    "    hessian = calculate_hessian(y,tx,w)\n",
    "    return loss,gradient,hessian"
   ]
  },
  {
   "cell_type": "markdown",
   "metadata": {},
   "source": [
    "### Using Newton's method\n",
    "Use Newton's method for logistic regression."
   ]
  },
  {
   "cell_type": "code",
   "execution_count": 62,
   "metadata": {
    "ExecuteTime": {
     "end_time": "2020-10-15T12:52:19.068884Z",
     "start_time": "2020-10-15T12:52:18.974540Z"
    },
    "jupyter": {
     "outputs_hidden": true
    }
   },
   "outputs": [],
   "source": [
    "def learning_by_newton_method(y, tx, w, gamma):\n",
    "    \"\"\"\n",
    "    Do one step on Newton's method.\n",
    "    return the loss and updated w.\n",
    "    \"\"\"\n",
    "    loss,gradient, hessian = logistic_regression(y,tx,w)\n",
    "    w = w - gamma* np.linalg.inv(hessian).dot(gradient)\n",
    "    return loss, w"
   ]
  },
  {
   "cell_type": "markdown",
   "metadata": {},
   "source": [
    "demo"
   ]
  },
  {
   "cell_type": "code",
   "execution_count": 63,
   "metadata": {
    "ExecuteTime": {
     "end_time": "2020-10-15T12:52:21.257146Z",
     "start_time": "2020-10-15T12:52:19.908129Z"
    },
    "scrolled": true
   },
   "outputs": [
    {
     "name": "stdout",
     "output_type": "stream",
     "text": [
      "Current iteration=0, the loss=[[138.62943611]]\n",
      "Current iteration=1, the loss=[[63.41155374]]\n",
      "Current iteration=2, the loss=[[47.3045862]]\n",
      "Current iteration=3, the loss=[[41.99746742]]\n",
      "Current iteration=4, the loss=[[40.95639864]]\n",
      "Current iteration=5, the loss=[[40.89511994]]\n",
      "Current iteration=6, the loss=[[40.89482562]]\n",
      "Current iteration=7, the loss=[[40.89482561]]\n",
      "loss=[[40.89482561]]\n"
     ]
    },
    {
     "data": {
      "image/png": "[encoded data removed]",
      "text/plain": [
       "<Figure size 432x288 with 2 Axes>"
      ]
     },
     "metadata": {
      "needs_background": "light"
     },
     "output_type": "display_data"
    }
   ],
   "source": [
    "def logistic_regression_newton_method_demo(y, x):\n",
    "    # init parameters\n",
    "    max_iter = 100\n",
    "    threshold = 1e-8\n",
    "    gamma = 1\n",
    "    losses = []\n",
    "\n",
    "    # build tx\n",
    "    tx = np.c_[np.ones((y.shape[0], 1)), x]\n",
    "    w = np.zeros((tx.shape[1], 1))\n",
    "\n",
    "    # start the logistic regression\n",
    "    for iter in range(max_iter):\n",
    "        # get loss and update w.\n",
    "        loss, w = learning_by_newton_method(y, tx, w, gamma)\n",
    "        # log info\n",
    "        if iter % 1 == 0:\n",
    "            print(\"Current iteration={i}, the loss={l}\".format(i=iter, l=loss))\n",
    "        # converge criterion\n",
    "        losses.append(loss)\n",
    "        if len(losses) > 1 and np.abs(losses[-1] - losses[-2]) < threshold:\n",
    "            break\n",
    "    # visualization\n",
    "    visualization(y, x, mean_x, std_x, w, \"classification_by_logistic_regression_newton_method\",True)\n",
    "    print(\"loss={l}\".format(l=calculate_loss(y, tx, w)))\n",
    "\n",
    "logistic_regression_newton_method_demo(y, x)"
   ]
  },
  {
   "cell_type": "markdown",
   "metadata": {},
   "source": [
    "### Using penalized logistic regression\n",
    "Fill in the function below."
   ]
  },
  {
   "cell_type": "code",
   "execution_count": 69,
   "metadata": {
    "ExecuteTime": {
     "end_time": "2020-10-15T13:07:49.793322Z",
     "start_time": "2020-10-15T13:07:49.702559Z"
    },
    "jupyter": {
     "outputs_hidden": true
    }
   },
   "outputs": [],
   "source": [
    "def penalized_logistic_regression(y, tx, w, lambda_):\n",
    "    \"\"\"return the loss, gradient.\"\"\"\n",
    "    loss = calculate_loss(y,tx,w) + lambda_/2*w.T.dot(w)\n",
    "    gradient = calculate_gradient(y,tx,w) + lambda_* np.sqrt(w.T.dot(w))*w\n",
    "    return loss, gradient\n",
    "    "
   ]
  },
  {
   "cell_type": "code",
   "execution_count": 78,
   "metadata": {
    "ExecuteTime": {
     "end_time": "2020-10-15T13:20:54.040569Z",
     "start_time": "2020-10-15T13:20:53.945065Z"
    },
    "jupyter": {
     "outputs_hidden": true
    }
   },
   "outputs": [],
   "source": [
    "def learning_by_penalized_gradient(y, tx, w, gamma, lambda_):\n",
    "    \"\"\"\n",
    "    Do one step of gradient descent, using the penalized logistic regression.\n",
    "    Return the loss and updated w.\n",
    "    \"\"\"\n",
    "    loss, gradient = penalized_logistic_regression(y, tx, w, lambda_)\n",
    "    \n",
    "    w = w - gamma* gradient\n",
    "    return loss, w"
   ]
  },
  {
   "cell_type": "code",
   "execution_count": 85,
   "metadata": {
    "ExecuteTime": {
     "end_time": "2020-10-15T13:52:29.253719Z",
     "start_time": "2020-10-15T13:52:27.190864Z"
    },
    "scrolled": false
   },
   "outputs": [
    {
     "name": "stdout",
     "output_type": "stream",
     "text": [
      "Current iteration=0, loss=[[138.62943611]]\n",
      "Current iteration=100, loss=[[43.71149664]]\n",
      "Current iteration=200, loss=[[41.91936649]]\n",
      "Current iteration=300, loss=[[41.50636884]]\n",
      "Current iteration=400, loss=[[41.37434045]]\n",
      "Current iteration=500, loss=[[41.3234181]]\n",
      "Current iteration=600, loss=[[41.30146049]]\n",
      "Current iteration=700, loss=[[41.29137999]]\n",
      "Current iteration=800, loss=[[41.28659537]]\n",
      "Current iteration=900, loss=[[41.2842853]]\n",
      "Current iteration=1000, loss=[[41.28316038]]\n",
      "Current iteration=1100, loss=[[41.28261025]]\n",
      "Current iteration=1200, loss=[[41.28234064]]\n",
      "Current iteration=1300, loss=[[41.28220838]]\n",
      "Current iteration=1400, loss=[[41.28214347]]\n",
      "Current iteration=1500, loss=[[41.2821116]]\n",
      "Current iteration=1600, loss=[[41.28209595]]\n",
      "Current iteration=1700, loss=[[41.28208826]]\n",
      "Current iteration=1800, loss=[[41.28208449]]\n",
      "Current iteration=1900, loss=[[41.28208264]]\n",
      "loss=[[41.06245326]]\n",
      " w =[[ 0.20974337]\n",
      " [ 2.04660652]\n",
      " [-6.30025434]]\n"
     ]
    },
    {
     "data": {
      "image/png": "[encoded data removed]",
      "text/plain": [
       "<Figure size 432x288 with 2 Axes>"
      ]
     },
     "metadata": {
      "needs_background": "light"
     },
     "output_type": "display_data"
    }
   ],
   "source": [
    "def logistic_regression_penalized_gradient_descent_demo(y, x):\n",
    "    # init parameters\n",
    "    max_iter = 10000\n",
    "    gamma = 0.01\n",
    "    lambda_ = 0.01\n",
    "    threshold = 1e-8\n",
    "    losses = []\n",
    "\n",
    "    # build tx\n",
    "    tx = np.c_[np.ones((y.shape[0], 1)), x]\n",
    "    w = np.zeros((tx.shape[1], 1))\n",
    "\n",
    "    # start the logistic regression\n",
    "    for iter in range(max_iter):\n",
    "        # get loss and update w.\n",
    "        loss, w = learning_by_penalized_gradient(y, tx, w, gamma, lambda_)\n",
    "        # log info\n",
    "        if iter % 100 == 0:\n",
    "            print(\"Current iteration={i}, loss={l}\".format(i=iter, l=loss))\n",
    "        # converge criterion\n",
    "        losses.append(loss)\n",
    "        if len(losses) > 1 and np.abs(losses[-1] - losses[-2]) < threshold:\n",
    "            break\n",
    "    # visualization\n",
    "    visualization(y, x, mean_x, std_x, w, \"classification_by_logistic_regression_penalized_gradient_descent\",True)\n",
    "    print(\"loss={l}\".format(l=calculate_loss(y, tx, w)))\n",
    "    print(f\" w ={w}\")\n",
    "logistic_regression_penalized_gradient_descent_demo(y, x)"
   ]
  },
  {
   "cell_type": "markdown",
   "metadata": {
    "collapsed": true,
    "jupyter": {
     "outputs_hidden": true
    }
   },
   "source": []
  },
  {
   "cell_type": "code",
   "execution_count": 80,
   "metadata": {
    "ExecuteTime": {
     "end_time": "2020-10-15T13:24:29.795674Z",
     "start_time": "2020-10-15T13:24:29.721780Z"
    }
   },
   "outputs": [],
   "source": []
  },
  {
   "cell_type": "code",
   "execution_count": null,
   "metadata": {
    "ExecuteTime": {
     "end_time": "2020-10-15T13:25:15.329355Z",
     "start_time": "2020-10-15T13:25:13.766581Z"
    }
   },
   "outputs": [],
   "source": []
  },
  {
   "cell_type": "code",
   "execution_count": null,
   "metadata": {},
   "outputs": [],
   "source": []
  }
 ],
 "metadata": {
  "anaconda-cloud": {},
  "kernelspec": {
   "display_name": "Python 3",
   "language": "python",
   "name": "python3"
  },
  "language_info": {
   "codemirror_mode": {
    "name": "ipython",
    "version": 3
   },
   "file_extension": ".py",
   "mimetype": "text/x-python",
   "name": "python",
   "nbconvert_exporter": "python",
   "pygments_lexer": "ipython3",
   "version": "3.7.5"
  },
  "toc": {
   "base_numbering": 1,
   "nav_menu": {},
   "number_sections": true,
   "sideBar": true,
   "skip_h1_title": false,
   "title_cell": "Table of Contents",
   "title_sidebar": "Contents",
   "toc_cell": false,
   "toc_position": {},
   "toc_section_display": true,
   "toc_window_display": false
  }
 },
 "nbformat": 4,
 "nbformat_minor": 4
}

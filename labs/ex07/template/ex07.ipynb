{
 "cells": [
  {
   "cell_type": "code",
   "execution_count": 2,
   "metadata": {
    "ExecuteTime": {
     "end_time": "2020-10-29T13:44:52.098839Z",
     "start_time": "2020-10-29T13:44:51.091533Z"
    }
   },
   "outputs": [
    {
     "name": "stdout",
     "output_type": "stream",
     "text": [
      "Requirement already satisfied: sklearn in c:\\users\\thoma\\appdata\\local\\programs\\python\\python37\\lib\\site-packages (0.0)\n",
      "Requirement already satisfied: scikit-learn in c:\\users\\thoma\\appdata\\local\\programs\\python\\python37\\lib\\site-packages (from sklearn) (0.23.2)\n",
      "Requirement already satisfied: threadpoolctl>=2.0.0 in c:\\users\\thoma\\appdata\\local\\programs\\python\\python37\\lib\\site-packages (from scikit-learn->sklearn) (2.1.0)\n",
      "Requirement already satisfied: numpy>=1.13.3 in c:\\users\\thoma\\appdata\\local\\programs\\python\\python37\\lib\\site-packages (from scikit-learn->sklearn) (1.17.3)\n",
      "Requirement already satisfied: scipy>=0.19.1 in c:\\users\\thoma\\appdata\\local\\programs\\python\\python37\\lib\\site-packages (from scikit-learn->sklearn) (1.4.1)\n",
      "Requirement already satisfied: joblib>=0.11 in c:\\users\\thoma\\appdata\\local\\programs\\python\\python37\\lib\\site-packages (from scikit-learn->sklearn) (0.17.0)\n",
      "The autoreload extension is already loaded. To reload it, use:\n",
      "  %reload_ext autoreload\n"
     ]
    }
   ],
   "source": [
    "# Useful starting lines\n",
    "%matplotlib inline\n",
    "!pip install sklearn\n",
    "import random\n",
    "from datetime import datetime\n",
    "\n",
    "import numpy as np\n",
    "import matplotlib.pyplot as plt\n",
    "%load_ext autoreload\n",
    "%autoreload 2"
   ]
  },
  {
   "cell_type": "markdown",
   "metadata": {},
   "source": [
    "# Support Vector Machines\n",
    "## Classification Using SVM\n",
    "Load dataset. We will use a toy dataset from sklearn."
   ]
  },
  {
   "cell_type": "code",
   "execution_count": 3,
   "metadata": {
    "ExecuteTime": {
     "end_time": "2020-10-29T13:44:55.339173Z",
     "start_time": "2020-10-29T13:44:53.132075Z"
    }
   },
   "outputs": [
    {
     "name": "stdout",
     "output_type": "stream",
     "text": [
      "(N, D) = (569, 31)\n"
     ]
    }
   ],
   "source": [
    "from sklearn import datasets\n",
    "\n",
    "#Load dataset\n",
    "sklearn_dataset = datasets.load_breast_cancer()\n",
    "Xx  = sklearn_dataset.data\n",
    "y = sklearn_dataset.target * 2 - 1    # labels must be in {-1, 1} for the hinge loss\n",
    "X = np.ones((Xx.shape[0], Xx.shape[1] + 1 ))    # add a column of ones for intercept\n",
    "X[:, :-1] = Xx\n",
    "print(\"(N, D) =\", X.shape)"
   ]
  },
  {
   "cell_type": "markdown",
   "metadata": {},
   "source": [
    "## Prepare cost and prediction functions"
   ]
  },
  {
   "cell_type": "code",
   "execution_count": 4,
   "metadata": {
    "ExecuteTime": {
     "end_time": "2020-10-29T13:50:27.094288Z",
     "start_time": "2020-10-29T13:50:27.043070Z"
    }
   },
   "outputs": [],
   "source": [
    "def hinge(x):\n",
    "    '''\n",
    "    x = np array \n",
    "    '''\n",
    "    return np.maximum(0, 1-x)\n",
    "\n",
    "def calculate_primal_objective(y, X, w, lambda_):\n",
    "    \"\"\"compute the full cost (the primal objective), that is loss plus regularizer.\n",
    "    X: the full dataset matrix, shape = (num_examples, num_features)\n",
    "    y: the corresponding +1 or -1 labels, shape = (num_examples)\n",
    "    w: shape = (num_features)\n",
    "    \"\"\"\n",
    "    hinge_arg = np.multiply(y, X.dot(w))\n",
    "    print(hinge_arg.shape)\n",
    "    return np.sum(hinge(hinge_arg)) + lambda_/2*w.T.dot(w)\n"
   ]
  },
  {
   "cell_type": "code",
   "execution_count": 14,
   "metadata": {
    "ExecuteTime": {
     "end_time": "2020-10-29T14:11:10.619021Z",
     "start_time": "2020-10-29T14:11:10.571621Z"
    }
   },
   "outputs": [],
   "source": [
    "def calculate_accuracy(y, X, w):\n",
    "    \"\"\"compute the training accuracy on the training set (can be called for test set as well).\n",
    "    X: the full dataset matrix, shape = (num_examples, num_features)\n",
    "    y: the corresponding +1 or -1 labels, shape = (num_examples)\n",
    "    w: shape = (num_features)\n",
    "    \"\"\"\n",
    "    pred = (X.dot(w) > 0)*2 -1\n",
    "    return ((pred==y)*1.0).mean()\n"
   ]
  },
  {
   "cell_type": "markdown",
   "metadata": {},
   "source": [
    "## Stochastic Gradient Descent for SVM"
   ]
  },
  {
   "cell_type": "markdown",
   "metadata": {},
   "source": [
    "Compute the (stochastic) subgradient for the n-th summand of the SVM optimization objective"
   ]
  },
  {
   "cell_type": "code",
   "execution_count": 20,
   "metadata": {
    "ExecuteTime": {
     "end_time": "2020-10-29T14:18:05.682544Z",
     "start_time": "2020-10-29T14:18:05.632492Z"
    }
   },
   "outputs": [],
   "source": [
    "def calculate_stochastic_gradient(y, X, w, lambda_, n, num_examples):\n",
    "    \"\"\"compute the stochastic gradient of loss plus regularizer.\n",
    "    X: the dataset matrix, shape = (num_examples, num_features)\n",
    "    y: the corresponding +1 or -1 labels, shape = (num_examples)\n",
    "    w: shape = (num_features)\n",
    "    n: the index of the (one) datapoint we have sampled\n",
    "    num_examples: N\n",
    "    \"\"\"\n",
    "    # ***************************************************\n",
    "    # INSERT YOUR CODE HERE\n",
    "    # TODO\n",
    "    # ***************************************************\n",
    "    # Be careful about the constant N (size) term!\n",
    "    # The complete objective for SVM is a sum, not an average as in earlier SGD examples!\n",
    "    x_n, y_n = X[n], y[n]\n",
    "    if (y_n*x_n.T.dot(w) >= 1):\n",
    "        return lambda_*w\n",
    "    else:\n",
    "        return -y_n*x_n*num_examples + lambda_*w\n"
   ]
  },
  {
   "cell_type": "markdown",
   "metadata": {},
   "source": [
    "Implement stochastic gradient descent: Pick a data point uniformly at random and update w based on the gradient for the n-th summand of the objective"
   ]
  },
  {
   "cell_type": "code",
   "execution_count": 21,
   "metadata": {
    "ExecuteTime": {
     "end_time": "2020-10-29T14:18:08.301642Z",
     "start_time": "2020-10-29T14:18:06.299452Z"
    }
   },
   "outputs": [
    {
     "name": "stdout",
     "output_type": "stream",
     "text": [
      "(569,)\n",
      "iteration=0, cost=36846513.06466666\n",
      "training accuracy = 0.37258347978910367\n",
      "(569,)\n",
      "iteration=10000, cost=535.4319149379232\n",
      "training accuracy = 0.7803163444639719\n",
      "(569,)\n",
      "iteration=20000, cost=201.9607728331365\n",
      "training accuracy = 0.9226713532513181\n",
      "(569,)\n",
      "iteration=30000, cost=175.01842471159765\n",
      "training accuracy = 0.9138840070298769\n",
      "(569,)\n",
      "iteration=40000, cost=144.52068935301213\n",
      "training accuracy = 0.9209138840070299\n",
      "(569,)\n",
      "iteration=50000, cost=139.3749151399091\n",
      "training accuracy = 0.9209138840070299\n",
      "(569,)\n",
      "iteration=60000, cost=169.39138962906407\n",
      "training accuracy = 0.9086115992970123\n",
      "(569,)\n",
      "iteration=70000, cost=133.0434802161852\n",
      "training accuracy = 0.9209138840070299\n",
      "(569,)\n",
      "iteration=80000, cost=132.2909809080791\n",
      "training accuracy = 0.9209138840070299\n",
      "(569,)\n",
      "iteration=90000, cost=149.72880007654354\n",
      "training accuracy = 0.9121265377855887\n",
      "(569,)\n",
      "iteration=100000, cost=133.71746736839955\n",
      "training accuracy = 0.9138840070298769\n",
      "(569,)\n",
      "iteration=110000, cost=127.28126306523964\n",
      "training accuracy = 0.9191564147627417\n",
      "(569,)\n",
      "iteration=120000, cost=126.51639283908575\n",
      "training accuracy = 0.9226713532513181\n",
      "(569,)\n",
      "iteration=130000, cost=128.25773748929421\n",
      "training accuracy = 0.9226713532513181\n",
      "(569,)\n",
      "iteration=140000, cost=135.45741266003145\n",
      "training accuracy = 0.9121265377855887\n",
      "(569,)\n",
      "iteration=150000, cost=132.60649917712172\n",
      "training accuracy = 0.9244288224956063\n",
      "(569,)\n",
      "iteration=160000, cost=133.87534967970365\n",
      "training accuracy = 0.9209138840070299\n",
      "(569,)\n",
      "iteration=170000, cost=128.67065256188454\n",
      "training accuracy = 0.9209138840070299\n",
      "(569,)\n",
      "iteration=180000, cost=128.40529078912323\n",
      "training accuracy = 0.9209138840070299\n",
      "(569,)\n",
      "iteration=190000, cost=144.0499454757057\n",
      "training accuracy = 0.9103690685413005\n"
     ]
    }
   ],
   "source": [
    "def sgd_for_svm_demo(y, X):\n",
    "    \n",
    "    max_iter = 2 * int(1e5)\n",
    "    gamma = 1e-4\n",
    "    lambda_ = int(1e4)   # big because scales with N due to the formulation of the problem (not an averaged loss)\n",
    "    \n",
    "    num_examples, num_features = X.shape\n",
    "    w = np.zeros(num_features)\n",
    "    \n",
    "    for it in range(max_iter):\n",
    "        # n = sample one data point uniformly at random data from x\n",
    "        n = random.randint(0,num_examples-1)\n",
    "        \n",
    "        grad = calculate_stochastic_gradient(y, X, w, lambda_, n, num_examples)\n",
    "        w -= gamma/(it+1) * grad\n",
    "        \n",
    "        if it % 10000 == 0:\n",
    "            cost = calculate_primal_objective(y, X, w, lambda_)\n",
    "            print(\"iteration={i}, cost={c}\".format(i=it, c=cost))\n",
    "            print(\"training accuracy = {l}\".format(l=calculate_accuracy(y, X, w)))\n",
    "\n",
    "    \n",
    "\n",
    "sgd_for_svm_demo(y, X)"
   ]
  },
  {
   "cell_type": "markdown",
   "metadata": {},
   "source": [
    "## Coordinate Descent (Ascent) for SVM"
   ]
  },
  {
   "cell_type": "markdown",
   "metadata": {},
   "source": [
    "Compute the closed-form update for the n-th variable alpha, in the dual optimization problem, given alpha and the current corresponding w"
   ]
  },
  {
   "cell_type": "code",
   "execution_count": 24,
   "metadata": {
    "ExecuteTime": {
     "end_time": "2020-10-29T15:11:34.705322Z",
     "start_time": "2020-10-29T15:11:34.647509Z"
    }
   },
   "outputs": [],
   "source": [
    "def calculate_coordinate_update(y, X, lambda_, alpha, w, n):\n",
    "    \"\"\"compute a coordinate update (closed form) for coordinate n.\n",
    "    X: the dataset matrix, shape = (num_examples, num_features)\n",
    "    y: the corresponding +1 or -1 labels, shape = (num_examples)\n",
    "    w: shape = (num_examples)\n",
    "    n: the coordinate to be updated\n",
    "    \"\"\"        \n",
    "    # calculate the update of coordinate at index=n.\n",
    "    x_n, y_n = X[n], y[n]\n",
    "    old_alpha_n = np.copy(alpha[n])\n",
    "    \n",
    "    g = (1 - y_n * x_n.dot(w))\n",
    "\n",
    "    if g != 0:\n",
    "        alpha[n] = min(\n",
    "            max(old_alpha_n + lambda_ * g / (x_n.T.dot(x_n)), 0.0),\n",
    "            1.0)\n",
    "\n",
    "        # compute the corresponding update on the primal vector w\n",
    "        w += 1.0 / lambda_ * (alpha[n] - old_alpha_n) * y_n * x_n\n",
    "    return w, alpha"
   ]
  },
  {
   "cell_type": "code",
   "execution_count": 25,
   "metadata": {
    "ExecuteTime": {
     "end_time": "2020-10-29T15:11:35.068562Z",
     "start_time": "2020-10-29T15:11:35.018644Z"
    }
   },
   "outputs": [],
   "source": [
    "def calculate_dual_objective(y, X, w, alpha, lambda_):\n",
    "    \"\"\"calculate the objective for the dual problem.\"\"\"\n",
    "    # ***************************************************\n",
    "    # INSERT YOUR CODE HERE\n",
    "    # TODO\n",
    "    # ***************************************************\n",
    "    return np.sum(alpha) - 1/2/lambda_*alpha.T.dot(np.diag(y)).dot(X).dot(X.T).dot(np.diag(y)).dot(alpha)"
   ]
  },
  {
   "cell_type": "code",
   "execution_count": 26,
   "metadata": {
    "ExecuteTime": {
     "end_time": "2020-10-29T15:11:38.552241Z",
     "start_time": "2020-10-29T15:11:35.441548Z"
    }
   },
   "outputs": [
    {
     "name": "stdout",
     "output_type": "stream",
     "text": [
      "(569,)\n",
      "iteration=0, primal:694.92983, dual:0.00613, gap:694.92370\n",
      "(569,)\n",
      "iteration=10000, primal:141.59107, dual:30.73336, gap:110.85770\n",
      "(569,)\n",
      "iteration=20000, primal:137.71690, dual:54.65594, gap:83.06096\n",
      "(569,)\n",
      "iteration=30000, primal:168.03794, dual:73.86968, gap:94.16826\n",
      "(569,)\n",
      "iteration=40000, primal:131.42123, dual:87.98745, gap:43.43378\n",
      "(569,)\n",
      "iteration=50000, primal:136.80576, dual:97.76828, gap:39.03748\n",
      "(569,)\n",
      "iteration=60000, primal:140.96554, dual:104.31351, gap:36.65202\n",
      "(569,)\n",
      "iteration=70000, primal:124.99602, dual:108.36250, gap:16.63352\n",
      "(569,)\n",
      "iteration=80000, primal:128.97640, dual:111.67348, gap:17.30292\n",
      "(569,)\n",
      "iteration=90000, primal:134.38212, dual:113.82744, gap:20.55467\n",
      "(569,)\n",
      "iteration=100000, primal:139.89398, dual:115.44571, gap:24.44827\n",
      "(569,)\n",
      "iteration=110000, primal:123.75090, dual:116.68625, gap:7.06465\n",
      "(569,)\n",
      "iteration=120000, primal:122.86854, dual:117.85916, gap:5.00938\n",
      "(569,)\n",
      "iteration=130000, primal:125.09847, dual:118.73784, gap:6.36063\n",
      "(569,)\n",
      "iteration=140000, primal:126.00188, dual:119.48879, gap:6.51308\n",
      "(569,)\n",
      "iteration=150000, primal:123.22360, dual:119.97205, gap:3.25155\n",
      "(569,)\n",
      "iteration=160000, primal:124.91254, dual:120.36166, gap:4.55088\n",
      "(569,)\n",
      "iteration=170000, primal:125.00322, dual:120.67904, gap:4.32418\n",
      "(569,)\n",
      "iteration=180000, primal:124.87625, dual:120.88999, gap:3.98626\n",
      "(569,)\n",
      "iteration=190000, primal:122.57614, dual:121.06713, gap:1.50901\n",
      "training accuracy = 0.9261862917398945\n"
     ]
    }
   ],
   "source": [
    "def coordinate_descent_for_svm_demo(y, X):\n",
    "    max_iter = 2*int(1e5)\n",
    "    lambda_ = int(1e4)   # use same lambda as before in order to compare\n",
    "\n",
    "    num_examples, num_features = X.shape\n",
    "    w = np.zeros(num_features)\n",
    "    alpha = np.zeros(num_examples)\n",
    "    \n",
    "    for it in range(max_iter):\n",
    "        # n = sample one data point uniformly at random data from x\n",
    "        n = random.randint(0,num_examples-1)\n",
    "        \n",
    "        w, alpha = calculate_coordinate_update(y, X, lambda_, alpha, w, n)\n",
    "            \n",
    "        if it % 10000 == 0:\n",
    "            # primal objective\n",
    "            primal_value = calculate_primal_objective(y, X, w, lambda_)\n",
    "            # dual objective\n",
    "            dual_value = calculate_dual_objective(y, X, w, alpha, lambda_)\n",
    "            # primal dual gap\n",
    "            duality_gap = primal_value - dual_value\n",
    "            print('iteration=%i, primal:%.5f, dual:%.5f, gap:%.5f'%(\n",
    "                    it, primal_value, dual_value, duality_gap))\n",
    "    print(\"training accuracy = {l}\".format(l=calculate_accuracy(y, X, w)))\n",
    "\n",
    "coordinate_descent_for_svm_demo(y, X)"
   ]
  },
  {
   "cell_type": "code",
   "execution_count": null,
   "metadata": {},
   "outputs": [],
   "source": []
  }
 ],
 "metadata": {
  "anaconda-cloud": {},
  "kernelspec": {
   "display_name": "Python 3",
   "language": "python",
   "name": "python3"
  },
  "language_info": {
   "codemirror_mode": {
    "name": "ipython",
    "version": 3
   },
   "file_extension": ".py",
   "mimetype": "text/x-python",
   "name": "python",
   "nbconvert_exporter": "python",
   "pygments_lexer": "ipython3",
   "version": "3.7.5"
  },
  "toc": {
   "base_numbering": 1,
   "nav_menu": {},
   "number_sections": true,
   "sideBar": true,
   "skip_h1_title": false,
   "title_cell": "Table of Contents",
   "title_sidebar": "Contents",
   "toc_cell": false,
   "toc_position": {},
   "toc_section_display": true,
   "toc_window_display": false
  }
 },
 "nbformat": 4,
 "nbformat_minor": 1
}

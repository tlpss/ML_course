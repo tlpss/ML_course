{
  "nbformat": 4,
  "nbformat_minor": 0,
  "metadata": {
    "kernelspec": {
      "display_name": "Python 3",
      "language": "python",
      "name": "python3"
    },
    "language_info": {
      "codemirror_mode": {
        "name": "ipython",
        "version": 3
      },
      "file_extension": ".py",
      "mimetype": "text/x-python",
      "name": "python",
      "nbconvert_exporter": "python",
      "pygments_lexer": "ipython3",
      "version": "3.6.3"
    },
    "colab": {
      "name": "ex08.ipynb",
      "provenance": []
    }
  },
  "cells": [
    {
      "cell_type": "code",
      "metadata": {
        "id": "JA0XGu6QNGql",
        "outputId": "e08f6052-5ee0-401a-bf84-3ee0e28dc2e6",
        "colab": {
          "base_uri": "https://localhost:8080/"
        }
      },
      "source": [
        "# Useful starting lines\n",
        "%matplotlib inline\n",
        "import numpy as np\n",
        "import matplotlib.pyplot as plt\n",
        "import torch\n",
        "import torch.nn as nn\n",
        "import torch.nn.functional as F\n",
        "from torch.autograd import Variable\n",
        "%load_ext autoreload\n",
        "%autoreload 2"
      ],
      "execution_count": 56,
      "outputs": [
        {
          "output_type": "stream",
          "text": [
            "The autoreload extension is already loaded. To reload it, use:\n",
            "  %reload_ext autoreload\n"
          ],
          "name": "stdout"
        }
      ]
    },
    {
      "cell_type": "code",
      "metadata": {
        "id": "CwoZnO_cNGqp"
      },
      "source": [
        "# Defining a toy dataset\n",
        "x_train = np.array([[3.3], [4.4], [5.5], [6.71], [6.93], [4.168], \n",
        "                    [9.779], [6.182], [7.59], [2.167], [7.042], \n",
        "                    [10.791], [5.313], [7.997], [3.1]], dtype=np.float32)\n",
        "\n",
        "y_train = np.array([[1.7], [2.76], [2.09], [3.19], [1.694], [1.573], \n",
        "                    [3.366], [2.596], [2.53], [1.221], [2.827], \n",
        "                        [3.465], [1.65], [2.904], [1.3]], dtype=np.float32)"
      ],
      "execution_count": 46,
      "outputs": []
    },
    {
      "cell_type": "markdown",
      "metadata": {
        "id": "UKlBKYIdNGqt"
      },
      "source": [
        "## Linear regression"
      ]
    },
    {
      "cell_type": "code",
      "metadata": {
        "id": "QhgUjQFPNGqt",
        "outputId": "fd7042dd-7c30-4760-e2fa-3eca31e8d949",
        "colab": {
          "base_uri": "https://localhost:8080/"
        }
      },
      "source": [
        "class MyLinearRegression:\n",
        "    def __init__(self):\n",
        "        # TODO: Define the parameters of the model (weights and biases)\n",
        "        self.w = torch.zeros(1,requires_grad=True)\n",
        "        self.b = torch.zeros(1,requires_grad=True)\n",
        "    \n",
        "    def forward(self, x):\n",
        "        # TODO: implement forward computation - compute predictions based on the inputs\n",
        "        x = self.b + self.w*x\n",
        "        return x \n",
        "    \n",
        "    def parameters(self):\n",
        "        # TODO: this function should return a list of parameters of the model\n",
        "        return [self.b,self.w]\n",
        "    \n",
        "    def __call__(self, x):\n",
        "        # Convenience function\n",
        "        return self.forward(x)\n",
        "\n",
        "def mselossfunc(pred, y):\n",
        "    # TODO: implement the MSE loss function\n",
        "    e = pred-y\n",
        "    #return torch.sum(torch.mul(e, torch.transpose(e,-1,0)))/e.shape[0]\n",
        "    return (pred-y).pow(2).mean()\n",
        "\n",
        "model = MyLinearRegression()\n",
        "numpy_inputs = np.asarray([0.0, 1.0, 2.0], dtype=np.float32)\n",
        "torch_inputs = torch.from_numpy(numpy_inputs)\n",
        "torch_outputs = model(torch_inputs)\n",
        "print(mselossfunc(torch_inputs,torch_outputs))\n",
        "print(\"Testing model: an input of %s gives a prediction:\\n %s\" % (numpy_inputs, torch_outputs))"
      ],
      "execution_count": 51,
      "outputs": [
        {
          "output_type": "stream",
          "text": [
            "tensor(1.6667, grad_fn=<MeanBackward0>)\n",
            "Testing model: an input of [0. 1. 2.] gives a prediction:\n",
            " tensor([0., 0., 0.], grad_fn=<AddBackward0>)\n"
          ],
          "name": "stdout"
        }
      ]
    },
    {
      "cell_type": "code",
      "metadata": {
        "id": "rqHsi32nNGqv"
      },
      "source": [
        "def train(features, labels, model, lossfunc, optimizer, num_epoch):\n",
        "\n",
        "    for epoch in range(num_epoch):\n",
        "        # TODO: Step 1 - create torch variables corresponding to features and labels\n",
        "        x = torch.from_numpy(features)\n",
        "        y = torch.from_numpy(labels)\n",
        "        # TODO: Step 2 - compute model predictions and loss\n",
        "        optimizer.zero_grad()\n",
        "        pred =model(x) # model.forward(x)\n",
        "        loss = lossfunc(y,pred)\n",
        "        # TODO: Step 3 - do a backward pass and a gradient update step\n",
        "        loss.backward()\n",
        "        optimizer.step()\n",
        "        if epoch % 10 == 0:\n",
        "            print ('Epoch [%d/%d], Loss: %.4f' %(epoch+1, num_epoch, loss.item()))\n",
        "        \n",
        "        \n",
        "def visualize(x_train, y_train, model):\n",
        "    # A convenience function for visualizing predictions given by the model\n",
        "\n",
        "    predicted = model(torch.from_numpy(x_train)).data.numpy()\n",
        "    order = np.argsort(x_train, axis=0)\n",
        "    plt.plot(x_train[order].flatten(), y_train[order].flatten(), 'ro', label='Original data')\n",
        "    plt.plot(x_train[order].flatten(), predicted[order].flatten(), label='Fitted line')\n",
        "    plt.legend()\n",
        "    plt.show()"
      ],
      "execution_count": 52,
      "outputs": []
    },
    {
      "cell_type": "code",
      "metadata": {
        "id": "6fAmyqCLNGqy",
        "outputId": "4f79bfcd-a895-43a0-e3e4-5403b6a64810",
        "colab": {
          "base_uri": "https://localhost:8080/",
          "height": 356
        }
      },
      "source": [
        "# Training and visualizing predictions made by linear regression model\n",
        "optimizer = torch.optim.SGD(model.parameters(), lr=1e-3)\n",
        "\n",
        "train(features=x_train,\n",
        "      labels=y_train,\n",
        "      model=model,\n",
        "      lossfunc=mselossfunc, \n",
        "      optimizer=optimizer,\n",
        "      num_epoch=50)\n",
        "visualize(x_train, y_train, model)"
      ],
      "execution_count": 53,
      "outputs": [
        {
          "output_type": "stream",
          "text": [
            "Epoch [1/50], Loss: 5.9467\n",
            "Epoch [11/50], Loss: 1.1699\n",
            "Epoch [21/50], Loss: 0.3857\n",
            "Epoch [31/50], Loss: 0.2567\n",
            "Epoch [41/50], Loss: 0.2352\n"
          ],
          "name": "stdout"
        },
        {
          "output_type": "display_data",
          "data": {
            "image/png": "[encoded data removed]",
            "text/plain": [
              "<Figure size 432x288 with 1 Axes>"
            ]
          },
          "metadata": {
            "tags": [],
            "needs_background": "light"
          }
        }
      ]
    },
    {
      "cell_type": "markdown",
      "metadata": {
        "id": "gzuwPxrRNGq1"
      },
      "source": [
        "## Linear Regression (using nn package)"
      ]
    },
    {
      "cell_type": "code",
      "metadata": {
        "id": "YZybeFLvNGq2",
        "outputId": "610371a6-2168-4a18-8c88-2b54bcc53f2c",
        "colab": {
          "base_uri": "https://localhost:8080/",
          "height": 446
        }
      },
      "source": [
        "class NNLinearRegression(nn.Module):\n",
        "    def __init__(self):\n",
        "        super(NNLinearRegression, self).__init__()\n",
        "        # TODO: Define the parameters of the model (linear nn layer)\n",
        "        self.lin = nn.Linear(1,1,True)\n",
        "    \n",
        "    def forward(self, x):\n",
        "        # TODO: implement forward computation\n",
        "        x = self.lin(x)\n",
        "        return x\n",
        "    \n",
        "# Training and visualizing predictions made by linear regression model (nn package)\n",
        "# TODO: use loss function from nn package\n",
        "lossfunc = torch.nn.MSELoss()\n",
        "\n",
        "model = NNLinearRegression()\n",
        "\n",
        "optimizer = torch.optim.SGD(model.parameters(), lr=1e-3)\n",
        "\n",
        "train(features=x_train,\n",
        "      labels=y_train,\n",
        "      model=model,\n",
        "      lossfunc=lossfunc,\n",
        "      optimizer=optimizer, num_epoch=100)\n",
        "visualize(x_train, y_train, model)"
      ],
      "execution_count": 55,
      "outputs": [
        {
          "output_type": "stream",
          "text": [
            "Epoch [1/100], Loss: 54.9957\n",
            "Epoch [11/100], Loss: 9.2043\n",
            "Epoch [21/100], Loss: 1.6889\n",
            "Epoch [31/100], Loss: 0.4552\n",
            "Epoch [41/100], Loss: 0.2526\n",
            "Epoch [51/100], Loss: 0.2191\n",
            "Epoch [61/100], Loss: 0.2135\n",
            "Epoch [71/100], Loss: 0.2124\n",
            "Epoch [81/100], Loss: 0.2120\n",
            "Epoch [91/100], Loss: 0.2117\n"
          ],
          "name": "stdout"
        },
        {
          "output_type": "display_data",
          "data": {
            "image/png": "[encoded data removed]",
            "text/plain": [
              "<Figure size 432x288 with 1 Axes>"
            ]
          },
          "metadata": {
            "tags": [],
            "needs_background": "light"
          }
        }
      ]
    },
    {
      "cell_type": "markdown",
      "metadata": {
        "id": "NRoEKTF9NGq5"
      },
      "source": [
        "## MLP"
      ]
    },
    {
      "cell_type": "code",
      "metadata": {
        "id": "7_Q3pS9pNGq5",
        "outputId": "00848789-c383-4ad4-a265-2280c14f610e",
        "colab": {
          "base_uri": "https://localhost:8080/",
          "height": 1000
        }
      },
      "source": [
        "class MLP(nn.Module):\n",
        "    def __init__(self, hidden_size):\n",
        "        super(MLP, self).__init__()\n",
        "        # TODO: Define parameters / layers of a multi-layered perceptron with one hidden layer\n",
        "        self.lin1 = nn.Linear(1,hidden_size,True)\n",
        "        self.lin2 = nn.Linear(hidden_size,1,True)\n",
        "    \n",
        "    def forward(self, x):\n",
        "        x =  F.sigmoid(self.lin1(x))\n",
        "        x = self.lin2(x)\n",
        "        return x\n",
        "    \n",
        "# TODO: Play with learning rate, hidden size, and optimizer type for multi-layered perceptron\n",
        "hidden_size = 1\n",
        "learning_rate = 1e-1\n",
        "lossfunc = torch.nn.MSELoss()\n",
        "\n",
        "model = MLP(hidden_size=hidden_size)\n",
        "\n",
        "optimizer = torch.optim.SGD(model.parameters(), lr= learning_rate)\n",
        "\n",
        "\n",
        "train(features=x_train,\n",
        "      labels=y_train,\n",
        "      model=model,\n",
        "      lossfunc=lossfunc,\n",
        "      optimizer=optimizer,\n",
        "      num_epoch=1000)\n",
        "visualize(x_train, y_train, model)"
      ],
      "execution_count": 81,
      "outputs": [
        {
          "output_type": "stream",
          "text": [
            "/usr/local/lib/python3.6/dist-packages/torch/nn/functional.py:1639: UserWarning: nn.functional.sigmoid is deprecated. Use torch.sigmoid instead.\n",
            "  warnings.warn(\"nn.functional.sigmoid is deprecated. Use torch.sigmoid instead.\")\n"
          ],
          "name": "stderr"
        },
        {
          "output_type": "stream",
          "text": [
            "Epoch [1/1000], Loss: 10.5737\n",
            "Epoch [11/1000], Loss: 0.6722\n",
            "Epoch [21/1000], Loss: 0.5567\n",
            "Epoch [31/1000], Loss: 0.5537\n",
            "Epoch [41/1000], Loss: 0.5524\n",
            "Epoch [51/1000], Loss: 0.5513\n",
            "Epoch [61/1000], Loss: 0.5504\n",
            "Epoch [71/1000], Loss: 0.5496\n",
            "Epoch [81/1000], Loss: 0.5489\n",
            "Epoch [91/1000], Loss: 0.5483\n",
            "Epoch [101/1000], Loss: 0.5477\n",
            "Epoch [111/1000], Loss: 0.5472\n",
            "Epoch [121/1000], Loss: 0.5468\n",
            "Epoch [131/1000], Loss: 0.5463\n",
            "Epoch [141/1000], Loss: 0.5459\n",
            "Epoch [151/1000], Loss: 0.5456\n",
            "Epoch [161/1000], Loss: 0.5452\n",
            "Epoch [171/1000], Loss: 0.5449\n",
            "Epoch [181/1000], Loss: 0.5446\n",
            "Epoch [191/1000], Loss: 0.5442\n",
            "Epoch [201/1000], Loss: 0.5439\n",
            "Epoch [211/1000], Loss: 0.5436\n",
            "Epoch [221/1000], Loss: 0.5433\n",
            "Epoch [231/1000], Loss: 0.5430\n",
            "Epoch [241/1000], Loss: 0.5426\n",
            "Epoch [251/1000], Loss: 0.5423\n",
            "Epoch [261/1000], Loss: 0.5419\n",
            "Epoch [271/1000], Loss: 0.5416\n",
            "Epoch [281/1000], Loss: 0.5412\n",
            "Epoch [291/1000], Loss: 0.5407\n",
            "Epoch [301/1000], Loss: 0.5403\n",
            "Epoch [311/1000], Loss: 0.5398\n",
            "Epoch [321/1000], Loss: 0.5392\n",
            "Epoch [331/1000], Loss: 0.5386\n",
            "Epoch [341/1000], Loss: 0.5379\n",
            "Epoch [351/1000], Loss: 0.5371\n",
            "Epoch [361/1000], Loss: 0.5362\n",
            "Epoch [371/1000], Loss: 0.5351\n",
            "Epoch [381/1000], Loss: 0.5338\n",
            "Epoch [391/1000], Loss: 0.5322\n",
            "Epoch [401/1000], Loss: 0.5302\n",
            "Epoch [411/1000], Loss: 0.5277\n",
            "Epoch [421/1000], Loss: 0.5244\n",
            "Epoch [431/1000], Loss: 0.5198\n",
            "Epoch [441/1000], Loss: 0.5135\n",
            "Epoch [451/1000], Loss: 0.5044\n",
            "Epoch [461/1000], Loss: 0.4923\n",
            "Epoch [471/1000], Loss: 0.4786\n",
            "Epoch [481/1000], Loss: 0.4669\n",
            "Epoch [491/1000], Loss: 0.4566\n",
            "Epoch [501/1000], Loss: 0.4463\n",
            "Epoch [511/1000], Loss: 0.4354\n",
            "Epoch [521/1000], Loss: 0.4239\n",
            "Epoch [531/1000], Loss: 0.4118\n",
            "Epoch [541/1000], Loss: 0.3990\n",
            "Epoch [551/1000], Loss: 0.3857\n",
            "Epoch [561/1000], Loss: 0.3718\n",
            "Epoch [571/1000], Loss: 0.3577\n",
            "Epoch [581/1000], Loss: 0.3433\n",
            "Epoch [591/1000], Loss: 0.3288\n",
            "Epoch [601/1000], Loss: 0.3145\n",
            "Epoch [611/1000], Loss: 0.3006\n",
            "Epoch [621/1000], Loss: 0.2872\n",
            "Epoch [631/1000], Loss: 0.2745\n",
            "Epoch [641/1000], Loss: 0.2626\n",
            "Epoch [651/1000], Loss: 0.2516\n",
            "Epoch [661/1000], Loss: 0.2417\n",
            "Epoch [671/1000], Loss: 0.2327\n",
            "Epoch [681/1000], Loss: 0.2248\n",
            "Epoch [691/1000], Loss: 0.2178\n",
            "Epoch [701/1000], Loss: 0.2117\n",
            "Epoch [711/1000], Loss: 0.2065\n",
            "Epoch [721/1000], Loss: 0.2019\n",
            "Epoch [731/1000], Loss: 0.1981\n",
            "Epoch [741/1000], Loss: 0.1947\n",
            "Epoch [751/1000], Loss: 0.1919\n",
            "Epoch [761/1000], Loss: 0.1895\n",
            "Epoch [771/1000], Loss: 0.1874\n",
            "Epoch [781/1000], Loss: 0.1857\n",
            "Epoch [791/1000], Loss: 0.1841\n",
            "Epoch [801/1000], Loss: 0.1829\n",
            "Epoch [811/1000], Loss: 0.2073\n",
            "Epoch [821/1000], Loss: 0.2133\n",
            "Epoch [831/1000], Loss: 0.2039\n",
            "Epoch [841/1000], Loss: 0.2018\n",
            "Epoch [851/1000], Loss: 0.2020\n",
            "Epoch [861/1000], Loss: 0.2022\n",
            "Epoch [871/1000], Loss: 0.2023\n",
            "Epoch [881/1000], Loss: 0.2024\n",
            "Epoch [891/1000], Loss: 0.2024\n",
            "Epoch [901/1000], Loss: 0.2025\n",
            "Epoch [911/1000], Loss: 0.2025\n",
            "Epoch [921/1000], Loss: 0.2025\n",
            "Epoch [931/1000], Loss: 0.2025\n",
            "Epoch [941/1000], Loss: 0.2025\n",
            "Epoch [951/1000], Loss: 0.2025\n",
            "Epoch [961/1000], Loss: 0.2025\n",
            "Epoch [971/1000], Loss: 0.2024\n",
            "Epoch [981/1000], Loss: 0.2024\n",
            "Epoch [991/1000], Loss: 0.2023\n"
          ],
          "name": "stdout"
        },
        {
          "output_type": "display_data",
          "data": {
            "image/png": "[encoded data removed]",
            "text/plain": [
              "<Figure size 432x288 with 1 Axes>"
            ]
          },
          "metadata": {
            "tags": [],
            "needs_background": "light"
          }
        }
      ]
    },
    {
      "cell_type": "code",
      "metadata": {
        "id": "V_wHVFPTNGq8"
      },
      "source": [
        ""
      ],
      "execution_count": null,
      "outputs": []
    }
  ]
}
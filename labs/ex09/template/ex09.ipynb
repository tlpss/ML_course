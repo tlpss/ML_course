{
 "cells": [
  {
   "cell_type": "code",
   "execution_count": 4,
   "metadata": {
    "ExecuteTime": {
     "end_time": "2020-11-10T19:07:35.294031Z",
     "start_time": "2020-11-10T19:07:34.158994Z"
    },
    "jupyter": {
     "outputs_hidden": true
    }
   },
   "outputs": [],
   "source": [
    "# Useful starting lines\n",
    "%matplotlib inline\n",
    "\n",
    "import numpy as np\n",
    "import scipy\n",
    "import scipy.io\n",
    "import scipy.sparse as sp\n",
    "import matplotlib.pyplot as plt\n",
    "%load_ext autoreload\n",
    "%autoreload 2"
   ]
  },
  {
   "cell_type": "markdown",
   "metadata": {},
   "source": [
    "Implement the sigmoid activation function."
   ]
  },
  {
   "cell_type": "code",
   "execution_count": 5,
   "metadata": {
    "ExecuteTime": {
     "end_time": "2020-11-10T19:07:35.335066Z",
     "start_time": "2020-11-10T19:07:35.294995Z"
    },
    "jupyter": {
     "outputs_hidden": false
    }
   },
   "outputs": [],
   "source": [
    "def sigmoid(t):\n",
    "    \"\"\"apply sigmoid function on t.\"\"\"\n",
    "    return 1/(1+np.exp(-t))\n",
    "    \n",
    "def grad_sigmoid(t):\n",
    "    \"\"\"return the gradient of sigmoid on t.\"\"\"\n",
    "    return sigmoid(t)*(1-sigmoid(t))"
   ]
  },
  {
   "cell_type": "code",
   "execution_count": null,
   "metadata": {
    "ExecuteTime": {
     "end_time": "2020-11-10T19:09:51.974818Z",
     "start_time": "2020-11-10T19:09:51.933928Z"
    }
   },
   "outputs": [],
   "source": []
  },
  {
   "cell_type": "markdown",
   "metadata": {},
   "source": [
    "Note that you are working on a three-layer neural network with one input layer of size $D=4$, $L=1$ hidden layer with size $K=5$, and one output layer with size 1.\n",
    "\n",
    "Initialize the data."
   ]
  },
  {
   "cell_type": "code",
   "execution_count": 22,
   "metadata": {
    "ExecuteTime": {
     "end_time": "2020-11-10T19:30:55.219261Z",
     "start_time": "2020-11-10T19:30:55.180172Z"
    },
    "jupyter": {
     "outputs_hidden": false
    }
   },
   "outputs": [],
   "source": [
    "x = np.array([0.01, 0.02, 0.03, 0.04])\n",
    "W = {\n",
    "    \"w_1\": np.ones((4, 5)),\n",
    "    \"w_2\": np.ones((5,1)),\n",
    "    \"b_1\": np.zeros(5),\n",
    "    \"b_2\": np.zeros(1)\n",
    "}\n",
    "y = 1"
   ]
  },
  {
   "cell_type": "markdown",
   "metadata": {},
   "source": [
    "# Problem 1: Feed-forward in neural network\n",
    "\n",
    "Implement the neural network described by Equation 1 of the exercise sheet."
   ]
  },
  {
   "cell_type": "code",
   "execution_count": 24,
   "metadata": {
    "ExecuteTime": {
     "end_time": "2020-11-10T19:36:34.118849Z",
     "start_time": "2020-11-10T19:36:34.076961Z"
    },
    "jupyter": {
     "outputs_hidden": false
    }
   },
   "outputs": [
    {
     "name": "stdout",
     "output_type": "stream",
     "text": [
      "[0.93244675]\n",
      "Your implementation is correct!\n"
     ]
    }
   ],
   "source": [
    "def simple_feed_forward(x, W, all=False):\n",
    "    \"\"\"Do feed-forward propagation.\"\"\"\n",
    "    # ***************************************************\n",
    "    # INSERT YOUR CODE HERE\n",
    "    # You should at least return y_hat: a scalar.\n",
    "    # ***************************************************\n",
    "    z_1 = W[\"w_1\"].T @ x + W[\"b_1\"]\n",
    "    x_1 = sigmoid(z_1)\n",
    "    \n",
    "    z_2 = W[\"w_2\"].T @ x_1 + W[\"b_2\"]\n",
    "    y_hat = sigmoid(z_2)\n",
    "    \n",
    "    if all: \n",
    "        return y_hat,z_2,x_1,z_1\n",
    "    return y_hat\n",
    "\n",
    "expected = 0.93244675427215695\n",
    "yours = simple_feed_forward(x, W)\n",
    "print(yours)\n",
    "try:\n",
    "    assert np.sum((yours - expected) ** 2) < 1e-15\n",
    "    print(\"Your implementation is correct!\")\n",
    "except:\n",
    "    print(\"Your implementation is not correct.\")"
   ]
  },
  {
   "cell_type": "markdown",
   "metadata": {},
   "source": [
    "# Problem 2: Backpropagation in neural network\n",
    "\n",
    "Implement your derivation of backpropagation. \n",
    "\n",
    "*Hint*: You might want to slightly change `simple_feed_forward`."
   ]
  },
  {
   "cell_type": "code",
   "execution_count": 39,
   "metadata": {
    "ExecuteTime": {
     "end_time": "2020-11-10T19:47:19.578299Z",
     "start_time": "2020-11-10T19:47:19.532415Z"
    },
    "jupyter": {
     "outputs_hidden": false
    }
   },
   "outputs": [
    {
     "name": "stdout",
     "output_type": "stream",
     "text": [
      "(4, 1)\n",
      "{'w_1': array([[-1.06113639e-05, -1.06113639e-05, -1.06113639e-05,\n",
      "        -1.06113639e-05, -1.06113639e-05],\n",
      "       [-2.12227277e-05, -2.12227277e-05, -2.12227277e-05,\n",
      "        -2.12227277e-05, -2.12227277e-05],\n",
      "       [-3.18340916e-05, -3.18340916e-05, -3.18340916e-05,\n",
      "        -3.18340916e-05, -3.18340916e-05],\n",
      "       [-4.24454555e-05, -4.24454555e-05, -4.24454555e-05,\n",
      "        -4.24454555e-05, -4.24454555e-05]]), 'w_2': array([[-0.00223387],\n",
      "       [-0.00223387],\n",
      "       [-0.00223387],\n",
      "       [-0.00223387],\n",
      "       [-0.00223387]])}\n",
      "Your implementation is correct!\n"
     ]
    }
   ],
   "source": [
    "def simple_backpropagation(y, x, W):\n",
    "    \"\"\"Do backpropagation and get delta_W.\"\"\"\n",
    "    # ***************************************************\n",
    "    # INSERT YOUR CODE HERE\n",
    "    # ***************************************************\n",
    "    \n",
    "    #forward pass\n",
    "    x_2,z_2,x_1,z_1 = simple_feed_forward(x,W,True)\n",
    "    \n",
    "    # calc deltas\n",
    "    delta_2 = -(y-x_2)*grad_sigmoid(z_2)\n",
    "    delta_1 = np.multiply((W[\"w_2\"]@delta_2),grad_sigmoid(z_1))\n",
    "    #calc derrivatives\n",
    "    print(x.reshape((-1,1)).shape)\n",
    "    delta_w_1  = x.reshape((-1,1))@delta_1.reshape((1,-1))\n",
    "    delta_w_2 = x_1.reshape((-1,1))@delta_2.reshape((1,-1))\n",
    "    return {\n",
    "        \"w_1\": delta_w_1,\n",
    "        \"w_2\": delta_w_2\n",
    "    }\n",
    "    \n",
    "yours = simple_backpropagation(y, x, W)    \n",
    "print(yours)\n",
    "try:\n",
    "    expected = {\n",
    "        'w_1': np.array([\n",
    "            [ -1.06113639e-05,  -1.06113639e-05,  -1.06113639e-05, -1.06113639e-05,  -1.06113639e-05],\n",
    "            [ -2.12227277e-05,  -2.12227277e-05,  -2.12227277e-05, -2.12227277e-05,  -2.12227277e-05],\n",
    "            [ -3.18340916e-05,  -3.18340916e-05,  -3.18340916e-05, -3.18340916e-05,  -3.18340916e-05],\n",
    "            [ -4.24454555e-05,  -4.24454555e-05,  -4.24454555e-05, -4.24454555e-05,  -4.24454555e-05]]),\n",
    "        'w_2': np.array(\n",
    "            [-0.00223387, -0.00223387, -0.00223387, -0.00223387, -0.00223387])\n",
    "    }\n",
    "    assert np.sum(\n",
    "        [np.sum((yours[key] - expected[key]) ** 2)\n",
    "         for key in expected.keys()]) < 1e-15\n",
    "    print(\"Your implementation is correct!\")\n",
    "except:\n",
    "    print(\"Your implementation is not correct!\")"
   ]
  },
  {
   "cell_type": "code",
   "execution_count": null,
   "metadata": {},
   "outputs": [],
   "source": []
  }
 ],
 "metadata": {
  "anaconda-cloud": {},
  "kernelspec": {
   "display_name": "Python 3",
   "language": "python",
   "name": "python3"
  },
  "language_info": {
   "codemirror_mode": {
    "name": "ipython",
    "version": 3
   },
   "file_extension": ".py",
   "mimetype": "text/x-python",
   "name": "python",
   "nbconvert_exporter": "python",
   "pygments_lexer": "ipython3",
   "version": "3.7.5"
  },
  "toc": {
   "base_numbering": 1,
   "nav_menu": {},
   "number_sections": true,
   "sideBar": true,
   "skip_h1_title": false,
   "title_cell": "Table of Contents",
   "title_sidebar": "Contents",
   "toc_cell": false,
   "toc_position": {},
   "toc_section_display": true,
   "toc_window_display": false
  }
 },
 "nbformat": 4,
 "nbformat_minor": 4
}
